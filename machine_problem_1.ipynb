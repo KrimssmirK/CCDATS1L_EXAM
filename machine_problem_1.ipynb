{
  "cells": [
    {
      "cell_type": "markdown",
      "metadata": {
        "id": "view-in-github",
        "colab_type": "text"
      },
      "source": [
        "<a href=\"https://colab.research.google.com/github/KrimssmirK/CCDATS1L_EXAM/blob/main/machine_problem_1.ipynb\" target=\"_parent\"><img src=\"https://colab.research.google.com/assets/colab-badge.svg\" alt=\"Open In Colab\"/></a>"
      ]
    },
    {
      "cell_type": "markdown",
      "metadata": {
        "id": "_NJNtBBtF8xi"
      },
      "source": [
        "# Machine Problem 1"
      ]
    },
    {
      "cell_type": "markdown",
      "source": [
        "Instructions ❗️❗️\n",
        "\n",
        "❌ Do not remove or modify the notebook sections, subsections, exam questions or any text in this python notebook\n",
        "\n",
        "✔️ Put your answer in the designated cells below each question"
      ],
      "metadata": {
        "id": "8EceuOTIGcsH"
      }
    },
    {
      "cell_type": "code",
      "execution_count": 114,
      "metadata": {
        "id": "MqOQkbEFF8xr"
      },
      "outputs": [],
      "source": [
        "import pandas as pd\n",
        "from sklearn.preprocessing import MinMaxScaler\n",
        "import matplotlib.pyplot as plt\n",
        "import seaborn as sns"
      ]
    },
    {
      "cell_type": "markdown",
      "metadata": {
        "id": "oYLBYVQJF8xs"
      },
      "source": [
        "## Data Cleaning"
      ]
    },
    {
      "cell_type": "code",
      "execution_count": 115,
      "metadata": {
        "id": "0ElL8OL8F8xs"
      },
      "outputs": [],
      "source": [
        "df = pd.read_csv('food.csv')"
      ]
    },
    {
      "cell_type": "markdown",
      "metadata": {
        "id": "ix_kMM-XF8xs"
      },
      "source": [
        "1. Remove all duplicates in the dataset. `(6 points)`"
      ]
    },
    {
      "cell_type": "code",
      "execution_count": 116,
      "metadata": {
        "id": "mpzOx-X-F8xs",
        "outputId": "16e46ad1-8101-4643-c3b3-0685fef1acf6",
        "colab": {
          "base_uri": "https://localhost:8080/"
        }
      },
      "outputs": [
        {
          "output_type": "stream",
          "name": "stdout",
          "text": [
            "Number of duplicate rows:  0\n"
          ]
        }
      ],
      "source": [
        "# put your answer here\n",
        "# duplicates - repeated data in the dataset\n",
        "# count number of duplicate rows\n",
        "num_duplicate_rows = df.duplicated().sum()\n",
        "print(\"Number of duplicate rows: \", num_duplicate_rows)\n"
      ]
    },
    {
      "cell_type": "markdown",
      "metadata": {
        "id": "Tb377rMBF8xs"
      },
      "source": [
        "2. Use the pandas `isnull()` and `any()` function to check for NaN values in each column. `(6 points)`"
      ]
    },
    {
      "cell_type": "code",
      "execution_count": 117,
      "metadata": {
        "id": "LQXVPklyF8xs",
        "colab": {
          "base_uri": "https://localhost:8080/"
        },
        "outputId": "d1165abe-6b92-4878-fcd9-dbe75064401e"
      },
      "outputs": [
        {
          "output_type": "stream",
          "name": "stdout",
          "text": [
            "There are some NaN values in GPA column\n",
            "There are some NaN values in calories_day column\n",
            "There are some NaN values in calories_scone column\n",
            "There are some NaN values in comfort_food column\n",
            "There are some NaN values in comfort_food_reasons column\n",
            "There are some NaN values in comfort_food_reasons_coded column\n",
            "There are some NaN values in cook column\n",
            "There are some NaN values in cuisine column\n",
            "There are some NaN values in diet_current column\n",
            "There are some NaN values in drink column\n",
            "There are some NaN values in eating_changes column\n",
            "There are some NaN values in employment column\n",
            "There are some NaN values in exercise column\n",
            "There are some NaN values in father_education column\n",
            "There are some NaN values in father_profession column\n",
            "There are some NaN values in fav_cuisine column\n",
            "There are some NaN values in fav_food column\n",
            "There are some NaN values in food_childhood column\n",
            "There are some NaN values in healthy_meal column\n",
            "There are some NaN values in ideal_diet column\n",
            "There are some NaN values in income column\n",
            "There are some NaN values in life_rewarding column\n",
            "There are some NaN values in marital_status column\n",
            "There are some NaN values in meals_dinner_friend column\n",
            "There are some NaN values in mother_education column\n",
            "There are some NaN values in mother_profession column\n",
            "There are some NaN values in on_off_campus column\n",
            "There are some NaN values in persian_food column\n",
            "There are some NaN values in self_perception_weight column\n",
            "There are some NaN values in soup column\n",
            "There are some NaN values in sports column\n",
            "There are some NaN values in tortilla_calories column\n",
            "There are some NaN values in type_sports column\n",
            "There are some NaN values in weight column\n",
            "\n",
            "34 out of 61 columns have NaN values\n"
          ]
        }
      ],
      "source": [
        "# put your answer here\n",
        "\n",
        "count = 0\n",
        "for column in df.columns:\n",
        "  check_nan = df[column].isnull().values.any()\n",
        "  if check_nan:\n",
        "    print(\"There are some NaN values in {} column\".format(column))\n",
        "    count += 1\n",
        "\n",
        "print(\"\\n{} out of {} columns have NaN values\".format(count, len(df.columns)))\n",
        "\n",
        "\n",
        "\n"
      ]
    },
    {
      "cell_type": "markdown",
      "metadata": {
        "id": "TyoG9phhF8xs"
      },
      "source": [
        "3. Retrieve all rows with NaN values in the dataset by using the pandas `isnull()` and `.any()` inside a dataframe. `(6 points)`"
      ]
    },
    {
      "cell_type": "code",
      "execution_count": 118,
      "metadata": {
        "id": "-G2tpTIQF8xt",
        "outputId": "13ac2e3a-e7a7-4cd6-cd3c-ed9dcee58e8a",
        "colab": {
          "base_uri": "https://localhost:8080/",
          "height": 669
        }
      },
      "outputs": [
        {
          "output_type": "execute_result",
          "data": {
            "text/plain": [
              "       GPA  Gender  breakfast  calories_chicken  calories_day  calories_scone  \\\n",
              "0      2.4       2          1               430           NaN           315.0   \n",
              "3      3.2       1          1               430           3.0           420.0   \n",
              "5     2.25       1          1               610           3.0           980.0   \n",
              "8      3.3       1          1               430           NaN           420.0   \n",
              "15     NaN       2          2               430           NaN           980.0   \n",
              "..     ...     ...        ...               ...           ...             ...   \n",
              "120    3.5       1          1               610           4.0           420.0   \n",
              "121      3       1          1               265           2.0           315.0   \n",
              "122  3.882       1          1               720           NaN           420.0   \n",
              "123      3       2          1               720           4.0           420.0   \n",
              "124    3.9       1          1               430           NaN           315.0   \n",
              "\n",
              "     coffee                             comfort_food  \\\n",
              "0         1                                     none   \n",
              "3         2         Pizza, Mac and cheese, ice cream   \n",
              "5         2                Candy, brownies and soda.   \n",
              "8         1                 Donuts, ice cream, chips   \n",
              "15        2              cookies, donuts, candy bars   \n",
              "..      ...                                      ...   \n",
              "120       2  wine. mac and cheese, pizza, ice cream    \n",
              "121       2               Pizza / Wings / Cheesecake   \n",
              "122       1               rice, potato, seaweed soup   \n",
              "123       1             Mac n Cheese, Lasagna, Pizza   \n",
              "124       2             Chocolates, pizza, and Ritz.   \n",
              "\n",
              "                                  comfort_food_reasons  \\\n",
              "0                                we dont have comfort    \n",
              "3                                              Boredom   \n",
              "5    None, i don't eat comfort food. I just eat whe...   \n",
              "8                                             Boredom    \n",
              "15                                             boredom   \n",
              "..                                                 ...   \n",
              "120                               boredom and sadness    \n",
              "121                    Loneliness / Homesick / Sadness   \n",
              "122                                            sadness   \n",
              "123      happiness, they are some of my favorite foods   \n",
              "124                   hormones, Premenstrual syndrome.   \n",
              "\n",
              "     comfort_food_reasons_coded  ...  soup  sports  thai_food  \\\n",
              "0                           9.0  ...   1.0     1.0          1   \n",
              "3                           2.0  ...   1.0     2.0          5   \n",
              "5                           4.0  ...   1.0     2.0          4   \n",
              "8                           2.0  ...   2.0     2.0          5   \n",
              "15                          2.0  ...   2.0     1.0          1   \n",
              "..                          ...  ...   ...     ...        ...   \n",
              "120                         NaN  ...   1.0     1.0          5   \n",
              "121                         NaN  ...   1.0     NaN          4   \n",
              "122                         NaN  ...   1.0     2.0          5   \n",
              "123                         NaN  ...   2.0     2.0          1   \n",
              "124                         NaN  ...   1.0     2.0          2   \n",
              "\n",
              "    tortilla_calories  turkey_calories  type_sports veggies_day  vitamins  \\\n",
              "0              1165.0              345   car racing           5         1   \n",
              "3               725.0              690          NaN           3         1   \n",
              "5               940.0              345        None.           1         2   \n",
              "8               725.0              345         none           3         2   \n",
              "15              940.0              345       Hockey           1         2   \n",
              "..                ...              ...          ...         ...       ...   \n",
              "120             940.0              500     Softball           5         1   \n",
              "121             940.0              500  basketball            5         2   \n",
              "122             580.0              690         none           4         2   \n",
              "123             940.0              500          NaN           3         1   \n",
              "124             725.0              345          NaN           4         2   \n",
              "\n",
              "     waffle_calories         weight  \n",
              "0               1315            187  \n",
              "3               1315  Not sure, 240  \n",
              "5               1315            190  \n",
              "8                760            180  \n",
              "15              1315            180  \n",
              "..               ...            ...  \n",
              "120             1315            156  \n",
              "121             1315            180  \n",
              "122             1315            120  \n",
              "123             1315            135  \n",
              "124              575            135  \n",
              "\n",
              "[73 rows x 61 columns]"
            ],
            "text/html": [
              "\n",
              "  <div id=\"df-f83bf305-f7be-488f-852d-7883caaba90b\" class=\"colab-df-container\">\n",
              "    <div>\n",
              "<style scoped>\n",
              "    .dataframe tbody tr th:only-of-type {\n",
              "        vertical-align: middle;\n",
              "    }\n",
              "\n",
              "    .dataframe tbody tr th {\n",
              "        vertical-align: top;\n",
              "    }\n",
              "\n",
              "    .dataframe thead th {\n",
              "        text-align: right;\n",
              "    }\n",
              "</style>\n",
              "<table border=\"1\" class=\"dataframe\">\n",
              "  <thead>\n",
              "    <tr style=\"text-align: right;\">\n",
              "      <th></th>\n",
              "      <th>GPA</th>\n",
              "      <th>Gender</th>\n",
              "      <th>breakfast</th>\n",
              "      <th>calories_chicken</th>\n",
              "      <th>calories_day</th>\n",
              "      <th>calories_scone</th>\n",
              "      <th>coffee</th>\n",
              "      <th>comfort_food</th>\n",
              "      <th>comfort_food_reasons</th>\n",
              "      <th>comfort_food_reasons_coded</th>\n",
              "      <th>...</th>\n",
              "      <th>soup</th>\n",
              "      <th>sports</th>\n",
              "      <th>thai_food</th>\n",
              "      <th>tortilla_calories</th>\n",
              "      <th>turkey_calories</th>\n",
              "      <th>type_sports</th>\n",
              "      <th>veggies_day</th>\n",
              "      <th>vitamins</th>\n",
              "      <th>waffle_calories</th>\n",
              "      <th>weight</th>\n",
              "    </tr>\n",
              "  </thead>\n",
              "  <tbody>\n",
              "    <tr>\n",
              "      <th>0</th>\n",
              "      <td>2.4</td>\n",
              "      <td>2</td>\n",
              "      <td>1</td>\n",
              "      <td>430</td>\n",
              "      <td>NaN</td>\n",
              "      <td>315.0</td>\n",
              "      <td>1</td>\n",
              "      <td>none</td>\n",
              "      <td>we dont have comfort</td>\n",
              "      <td>9.0</td>\n",
              "      <td>...</td>\n",
              "      <td>1.0</td>\n",
              "      <td>1.0</td>\n",
              "      <td>1</td>\n",
              "      <td>1165.0</td>\n",
              "      <td>345</td>\n",
              "      <td>car racing</td>\n",
              "      <td>5</td>\n",
              "      <td>1</td>\n",
              "      <td>1315</td>\n",
              "      <td>187</td>\n",
              "    </tr>\n",
              "    <tr>\n",
              "      <th>3</th>\n",
              "      <td>3.2</td>\n",
              "      <td>1</td>\n",
              "      <td>1</td>\n",
              "      <td>430</td>\n",
              "      <td>3.0</td>\n",
              "      <td>420.0</td>\n",
              "      <td>2</td>\n",
              "      <td>Pizza, Mac and cheese, ice cream</td>\n",
              "      <td>Boredom</td>\n",
              "      <td>2.0</td>\n",
              "      <td>...</td>\n",
              "      <td>1.0</td>\n",
              "      <td>2.0</td>\n",
              "      <td>5</td>\n",
              "      <td>725.0</td>\n",
              "      <td>690</td>\n",
              "      <td>NaN</td>\n",
              "      <td>3</td>\n",
              "      <td>1</td>\n",
              "      <td>1315</td>\n",
              "      <td>Not sure, 240</td>\n",
              "    </tr>\n",
              "    <tr>\n",
              "      <th>5</th>\n",
              "      <td>2.25</td>\n",
              "      <td>1</td>\n",
              "      <td>1</td>\n",
              "      <td>610</td>\n",
              "      <td>3.0</td>\n",
              "      <td>980.0</td>\n",
              "      <td>2</td>\n",
              "      <td>Candy, brownies and soda.</td>\n",
              "      <td>None, i don't eat comfort food. I just eat whe...</td>\n",
              "      <td>4.0</td>\n",
              "      <td>...</td>\n",
              "      <td>1.0</td>\n",
              "      <td>2.0</td>\n",
              "      <td>4</td>\n",
              "      <td>940.0</td>\n",
              "      <td>345</td>\n",
              "      <td>None.</td>\n",
              "      <td>1</td>\n",
              "      <td>2</td>\n",
              "      <td>1315</td>\n",
              "      <td>190</td>\n",
              "    </tr>\n",
              "    <tr>\n",
              "      <th>8</th>\n",
              "      <td>3.3</td>\n",
              "      <td>1</td>\n",
              "      <td>1</td>\n",
              "      <td>430</td>\n",
              "      <td>NaN</td>\n",
              "      <td>420.0</td>\n",
              "      <td>1</td>\n",
              "      <td>Donuts, ice cream, chips</td>\n",
              "      <td>Boredom</td>\n",
              "      <td>2.0</td>\n",
              "      <td>...</td>\n",
              "      <td>2.0</td>\n",
              "      <td>2.0</td>\n",
              "      <td>5</td>\n",
              "      <td>725.0</td>\n",
              "      <td>345</td>\n",
              "      <td>none</td>\n",
              "      <td>3</td>\n",
              "      <td>2</td>\n",
              "      <td>760</td>\n",
              "      <td>180</td>\n",
              "    </tr>\n",
              "    <tr>\n",
              "      <th>15</th>\n",
              "      <td>NaN</td>\n",
              "      <td>2</td>\n",
              "      <td>2</td>\n",
              "      <td>430</td>\n",
              "      <td>NaN</td>\n",
              "      <td>980.0</td>\n",
              "      <td>2</td>\n",
              "      <td>cookies, donuts, candy bars</td>\n",
              "      <td>boredom</td>\n",
              "      <td>2.0</td>\n",
              "      <td>...</td>\n",
              "      <td>2.0</td>\n",
              "      <td>1.0</td>\n",
              "      <td>1</td>\n",
              "      <td>940.0</td>\n",
              "      <td>345</td>\n",
              "      <td>Hockey</td>\n",
              "      <td>1</td>\n",
              "      <td>2</td>\n",
              "      <td>1315</td>\n",
              "      <td>180</td>\n",
              "    </tr>\n",
              "    <tr>\n",
              "      <th>...</th>\n",
              "      <td>...</td>\n",
              "      <td>...</td>\n",
              "      <td>...</td>\n",
              "      <td>...</td>\n",
              "      <td>...</td>\n",
              "      <td>...</td>\n",
              "      <td>...</td>\n",
              "      <td>...</td>\n",
              "      <td>...</td>\n",
              "      <td>...</td>\n",
              "      <td>...</td>\n",
              "      <td>...</td>\n",
              "      <td>...</td>\n",
              "      <td>...</td>\n",
              "      <td>...</td>\n",
              "      <td>...</td>\n",
              "      <td>...</td>\n",
              "      <td>...</td>\n",
              "      <td>...</td>\n",
              "      <td>...</td>\n",
              "      <td>...</td>\n",
              "    </tr>\n",
              "    <tr>\n",
              "      <th>120</th>\n",
              "      <td>3.5</td>\n",
              "      <td>1</td>\n",
              "      <td>1</td>\n",
              "      <td>610</td>\n",
              "      <td>4.0</td>\n",
              "      <td>420.0</td>\n",
              "      <td>2</td>\n",
              "      <td>wine. mac and cheese, pizza, ice cream</td>\n",
              "      <td>boredom and sadness</td>\n",
              "      <td>NaN</td>\n",
              "      <td>...</td>\n",
              "      <td>1.0</td>\n",
              "      <td>1.0</td>\n",
              "      <td>5</td>\n",
              "      <td>940.0</td>\n",
              "      <td>500</td>\n",
              "      <td>Softball</td>\n",
              "      <td>5</td>\n",
              "      <td>1</td>\n",
              "      <td>1315</td>\n",
              "      <td>156</td>\n",
              "    </tr>\n",
              "    <tr>\n",
              "      <th>121</th>\n",
              "      <td>3</td>\n",
              "      <td>1</td>\n",
              "      <td>1</td>\n",
              "      <td>265</td>\n",
              "      <td>2.0</td>\n",
              "      <td>315.0</td>\n",
              "      <td>2</td>\n",
              "      <td>Pizza / Wings / Cheesecake</td>\n",
              "      <td>Loneliness / Homesick / Sadness</td>\n",
              "      <td>NaN</td>\n",
              "      <td>...</td>\n",
              "      <td>1.0</td>\n",
              "      <td>NaN</td>\n",
              "      <td>4</td>\n",
              "      <td>940.0</td>\n",
              "      <td>500</td>\n",
              "      <td>basketball</td>\n",
              "      <td>5</td>\n",
              "      <td>2</td>\n",
              "      <td>1315</td>\n",
              "      <td>180</td>\n",
              "    </tr>\n",
              "    <tr>\n",
              "      <th>122</th>\n",
              "      <td>3.882</td>\n",
              "      <td>1</td>\n",
              "      <td>1</td>\n",
              "      <td>720</td>\n",
              "      <td>NaN</td>\n",
              "      <td>420.0</td>\n",
              "      <td>1</td>\n",
              "      <td>rice, potato, seaweed soup</td>\n",
              "      <td>sadness</td>\n",
              "      <td>NaN</td>\n",
              "      <td>...</td>\n",
              "      <td>1.0</td>\n",
              "      <td>2.0</td>\n",
              "      <td>5</td>\n",
              "      <td>580.0</td>\n",
              "      <td>690</td>\n",
              "      <td>none</td>\n",
              "      <td>4</td>\n",
              "      <td>2</td>\n",
              "      <td>1315</td>\n",
              "      <td>120</td>\n",
              "    </tr>\n",
              "    <tr>\n",
              "      <th>123</th>\n",
              "      <td>3</td>\n",
              "      <td>2</td>\n",
              "      <td>1</td>\n",
              "      <td>720</td>\n",
              "      <td>4.0</td>\n",
              "      <td>420.0</td>\n",
              "      <td>1</td>\n",
              "      <td>Mac n Cheese, Lasagna, Pizza</td>\n",
              "      <td>happiness, they are some of my favorite foods</td>\n",
              "      <td>NaN</td>\n",
              "      <td>...</td>\n",
              "      <td>2.0</td>\n",
              "      <td>2.0</td>\n",
              "      <td>1</td>\n",
              "      <td>940.0</td>\n",
              "      <td>500</td>\n",
              "      <td>NaN</td>\n",
              "      <td>3</td>\n",
              "      <td>1</td>\n",
              "      <td>1315</td>\n",
              "      <td>135</td>\n",
              "    </tr>\n",
              "    <tr>\n",
              "      <th>124</th>\n",
              "      <td>3.9</td>\n",
              "      <td>1</td>\n",
              "      <td>1</td>\n",
              "      <td>430</td>\n",
              "      <td>NaN</td>\n",
              "      <td>315.0</td>\n",
              "      <td>2</td>\n",
              "      <td>Chocolates, pizza, and Ritz.</td>\n",
              "      <td>hormones, Premenstrual syndrome.</td>\n",
              "      <td>NaN</td>\n",
              "      <td>...</td>\n",
              "      <td>1.0</td>\n",
              "      <td>2.0</td>\n",
              "      <td>2</td>\n",
              "      <td>725.0</td>\n",
              "      <td>345</td>\n",
              "      <td>NaN</td>\n",
              "      <td>4</td>\n",
              "      <td>2</td>\n",
              "      <td>575</td>\n",
              "      <td>135</td>\n",
              "    </tr>\n",
              "  </tbody>\n",
              "</table>\n",
              "<p>73 rows × 61 columns</p>\n",
              "</div>\n",
              "    <div class=\"colab-df-buttons\">\n",
              "\n",
              "  <div class=\"colab-df-container\">\n",
              "    <button class=\"colab-df-convert\" onclick=\"convertToInteractive('df-f83bf305-f7be-488f-852d-7883caaba90b')\"\n",
              "            title=\"Convert this dataframe to an interactive table.\"\n",
              "            style=\"display:none;\">\n",
              "\n",
              "  <svg xmlns=\"http://www.w3.org/2000/svg\" height=\"24px\" viewBox=\"0 -960 960 960\">\n",
              "    <path d=\"M120-120v-720h720v720H120Zm60-500h600v-160H180v160Zm220 220h160v-160H400v160Zm0 220h160v-160H400v160ZM180-400h160v-160H180v160Zm440 0h160v-160H620v160ZM180-180h160v-160H180v160Zm440 0h160v-160H620v160Z\"/>\n",
              "  </svg>\n",
              "    </button>\n",
              "\n",
              "  <style>\n",
              "    .colab-df-container {\n",
              "      display:flex;\n",
              "      gap: 12px;\n",
              "    }\n",
              "\n",
              "    .colab-df-convert {\n",
              "      background-color: #E8F0FE;\n",
              "      border: none;\n",
              "      border-radius: 50%;\n",
              "      cursor: pointer;\n",
              "      display: none;\n",
              "      fill: #1967D2;\n",
              "      height: 32px;\n",
              "      padding: 0 0 0 0;\n",
              "      width: 32px;\n",
              "    }\n",
              "\n",
              "    .colab-df-convert:hover {\n",
              "      background-color: #E2EBFA;\n",
              "      box-shadow: 0px 1px 2px rgba(60, 64, 67, 0.3), 0px 1px 3px 1px rgba(60, 64, 67, 0.15);\n",
              "      fill: #174EA6;\n",
              "    }\n",
              "\n",
              "    .colab-df-buttons div {\n",
              "      margin-bottom: 4px;\n",
              "    }\n",
              "\n",
              "    [theme=dark] .colab-df-convert {\n",
              "      background-color: #3B4455;\n",
              "      fill: #D2E3FC;\n",
              "    }\n",
              "\n",
              "    [theme=dark] .colab-df-convert:hover {\n",
              "      background-color: #434B5C;\n",
              "      box-shadow: 0px 1px 3px 1px rgba(0, 0, 0, 0.15);\n",
              "      filter: drop-shadow(0px 1px 2px rgba(0, 0, 0, 0.3));\n",
              "      fill: #FFFFFF;\n",
              "    }\n",
              "  </style>\n",
              "\n",
              "    <script>\n",
              "      const buttonEl =\n",
              "        document.querySelector('#df-f83bf305-f7be-488f-852d-7883caaba90b button.colab-df-convert');\n",
              "      buttonEl.style.display =\n",
              "        google.colab.kernel.accessAllowed ? 'block' : 'none';\n",
              "\n",
              "      async function convertToInteractive(key) {\n",
              "        const element = document.querySelector('#df-f83bf305-f7be-488f-852d-7883caaba90b');\n",
              "        const dataTable =\n",
              "          await google.colab.kernel.invokeFunction('convertToInteractive',\n",
              "                                                    [key], {});\n",
              "        if (!dataTable) return;\n",
              "\n",
              "        const docLinkHtml = 'Like what you see? Visit the ' +\n",
              "          '<a target=\"_blank\" href=https://colab.research.google.com/notebooks/data_table.ipynb>data table notebook</a>'\n",
              "          + ' to learn more about interactive tables.';\n",
              "        element.innerHTML = '';\n",
              "        dataTable['output_type'] = 'display_data';\n",
              "        await google.colab.output.renderOutput(dataTable, element);\n",
              "        const docLink = document.createElement('div');\n",
              "        docLink.innerHTML = docLinkHtml;\n",
              "        element.appendChild(docLink);\n",
              "      }\n",
              "    </script>\n",
              "  </div>\n",
              "\n",
              "\n",
              "<div id=\"df-06f6ad1d-73f5-4a67-9e29-ea952a2ef79d\">\n",
              "  <button class=\"colab-df-quickchart\" onclick=\"quickchart('df-06f6ad1d-73f5-4a67-9e29-ea952a2ef79d')\"\n",
              "            title=\"Suggest charts.\"\n",
              "            style=\"display:none;\">\n",
              "\n",
              "<svg xmlns=\"http://www.w3.org/2000/svg\" height=\"24px\"viewBox=\"0 0 24 24\"\n",
              "     width=\"24px\">\n",
              "    <g>\n",
              "        <path d=\"M19 3H5c-1.1 0-2 .9-2 2v14c0 1.1.9 2 2 2h14c1.1 0 2-.9 2-2V5c0-1.1-.9-2-2-2zM9 17H7v-7h2v7zm4 0h-2V7h2v10zm4 0h-2v-4h2v4z\"/>\n",
              "    </g>\n",
              "</svg>\n",
              "  </button>\n",
              "\n",
              "<style>\n",
              "  .colab-df-quickchart {\n",
              "      --bg-color: #E8F0FE;\n",
              "      --fill-color: #1967D2;\n",
              "      --hover-bg-color: #E2EBFA;\n",
              "      --hover-fill-color: #174EA6;\n",
              "      --disabled-fill-color: #AAA;\n",
              "      --disabled-bg-color: #DDD;\n",
              "  }\n",
              "\n",
              "  [theme=dark] .colab-df-quickchart {\n",
              "      --bg-color: #3B4455;\n",
              "      --fill-color: #D2E3FC;\n",
              "      --hover-bg-color: #434B5C;\n",
              "      --hover-fill-color: #FFFFFF;\n",
              "      --disabled-bg-color: #3B4455;\n",
              "      --disabled-fill-color: #666;\n",
              "  }\n",
              "\n",
              "  .colab-df-quickchart {\n",
              "    background-color: var(--bg-color);\n",
              "    border: none;\n",
              "    border-radius: 50%;\n",
              "    cursor: pointer;\n",
              "    display: none;\n",
              "    fill: var(--fill-color);\n",
              "    height: 32px;\n",
              "    padding: 0;\n",
              "    width: 32px;\n",
              "  }\n",
              "\n",
              "  .colab-df-quickchart:hover {\n",
              "    background-color: var(--hover-bg-color);\n",
              "    box-shadow: 0 1px 2px rgba(60, 64, 67, 0.3), 0 1px 3px 1px rgba(60, 64, 67, 0.15);\n",
              "    fill: var(--button-hover-fill-color);\n",
              "  }\n",
              "\n",
              "  .colab-df-quickchart-complete:disabled,\n",
              "  .colab-df-quickchart-complete:disabled:hover {\n",
              "    background-color: var(--disabled-bg-color);\n",
              "    fill: var(--disabled-fill-color);\n",
              "    box-shadow: none;\n",
              "  }\n",
              "\n",
              "  .colab-df-spinner {\n",
              "    border: 2px solid var(--fill-color);\n",
              "    border-color: transparent;\n",
              "    border-bottom-color: var(--fill-color);\n",
              "    animation:\n",
              "      spin 1s steps(1) infinite;\n",
              "  }\n",
              "\n",
              "  @keyframes spin {\n",
              "    0% {\n",
              "      border-color: transparent;\n",
              "      border-bottom-color: var(--fill-color);\n",
              "      border-left-color: var(--fill-color);\n",
              "    }\n",
              "    20% {\n",
              "      border-color: transparent;\n",
              "      border-left-color: var(--fill-color);\n",
              "      border-top-color: var(--fill-color);\n",
              "    }\n",
              "    30% {\n",
              "      border-color: transparent;\n",
              "      border-left-color: var(--fill-color);\n",
              "      border-top-color: var(--fill-color);\n",
              "      border-right-color: var(--fill-color);\n",
              "    }\n",
              "    40% {\n",
              "      border-color: transparent;\n",
              "      border-right-color: var(--fill-color);\n",
              "      border-top-color: var(--fill-color);\n",
              "    }\n",
              "    60% {\n",
              "      border-color: transparent;\n",
              "      border-right-color: var(--fill-color);\n",
              "    }\n",
              "    80% {\n",
              "      border-color: transparent;\n",
              "      border-right-color: var(--fill-color);\n",
              "      border-bottom-color: var(--fill-color);\n",
              "    }\n",
              "    90% {\n",
              "      border-color: transparent;\n",
              "      border-bottom-color: var(--fill-color);\n",
              "    }\n",
              "  }\n",
              "</style>\n",
              "\n",
              "  <script>\n",
              "    async function quickchart(key) {\n",
              "      const quickchartButtonEl =\n",
              "        document.querySelector('#' + key + ' button');\n",
              "      quickchartButtonEl.disabled = true;  // To prevent multiple clicks.\n",
              "      quickchartButtonEl.classList.add('colab-df-spinner');\n",
              "      try {\n",
              "        const charts = await google.colab.kernel.invokeFunction(\n",
              "            'suggestCharts', [key], {});\n",
              "      } catch (error) {\n",
              "        console.error('Error during call to suggestCharts:', error);\n",
              "      }\n",
              "      quickchartButtonEl.classList.remove('colab-df-spinner');\n",
              "      quickchartButtonEl.classList.add('colab-df-quickchart-complete');\n",
              "    }\n",
              "    (() => {\n",
              "      let quickchartButtonEl =\n",
              "        document.querySelector('#df-06f6ad1d-73f5-4a67-9e29-ea952a2ef79d button');\n",
              "      quickchartButtonEl.style.display =\n",
              "        google.colab.kernel.accessAllowed ? 'block' : 'none';\n",
              "    })();\n",
              "  </script>\n",
              "</div>\n",
              "    </div>\n",
              "  </div>\n"
            ]
          },
          "metadata": {},
          "execution_count": 118
        }
      ],
      "source": [
        "# put your answer here\n",
        "indices = []\n",
        "for i in range(len(df)):\n",
        "  if df.iloc[i].isnull().values.any():\n",
        "    indices.append(i)\n",
        "\n",
        "df.iloc[indices]\n"
      ]
    },
    {
      "cell_type": "markdown",
      "metadata": {
        "id": "Q_P9uwRLF8xt"
      },
      "source": [
        "4. Put all of the columns with NaN values in a list. Print the contents of the list. `(6 points)`"
      ]
    },
    {
      "cell_type": "code",
      "execution_count": 119,
      "metadata": {
        "id": "vDzavt2kF8xt",
        "colab": {
          "base_uri": "https://localhost:8080/"
        },
        "outputId": "155924bd-b35c-4222-9609-88ac2029262d"
      },
      "outputs": [
        {
          "output_type": "execute_result",
          "data": {
            "text/plain": [
              "['GPA',\n",
              " 'calories_day',\n",
              " 'calories_scone',\n",
              " 'comfort_food',\n",
              " 'comfort_food_reasons',\n",
              " 'comfort_food_reasons_coded',\n",
              " 'cook',\n",
              " 'cuisine',\n",
              " 'diet_current',\n",
              " 'drink',\n",
              " 'eating_changes',\n",
              " 'employment',\n",
              " 'exercise',\n",
              " 'father_education',\n",
              " 'father_profession',\n",
              " 'fav_cuisine',\n",
              " 'fav_food',\n",
              " 'food_childhood',\n",
              " 'healthy_meal',\n",
              " 'ideal_diet',\n",
              " 'income',\n",
              " 'life_rewarding',\n",
              " 'marital_status',\n",
              " 'meals_dinner_friend',\n",
              " 'mother_education',\n",
              " 'mother_profession',\n",
              " 'on_off_campus',\n",
              " 'persian_food',\n",
              " 'self_perception_weight',\n",
              " 'soup',\n",
              " 'sports',\n",
              " 'tortilla_calories',\n",
              " 'type_sports',\n",
              " 'weight']"
            ]
          },
          "metadata": {},
          "execution_count": 119
        }
      ],
      "source": [
        "# put your answer here\n",
        "columns = []\n",
        "for column in df.columns:\n",
        "  check_nan = df[column].isnull().values.any()\n",
        "  if check_nan:\n",
        "    columns.append(column)\n",
        "\n",
        "columns\n"
      ]
    },
    {
      "cell_type": "markdown",
      "metadata": {
        "id": "sNL93oDzF8xt"
      },
      "source": [
        "5. Loop through the list that contains columns with NaN values and use the `fillna()` function to replace NaN values with empty an string. `(6 points)`"
      ]
    },
    {
      "cell_type": "code",
      "execution_count": 120,
      "metadata": {
        "id": "zjCZGnytF8xt",
        "colab": {
          "base_uri": "https://localhost:8080/"
        },
        "outputId": "7ed8315c-b0af-49ce-945c-8ad4605d1ec9"
      },
      "outputs": [
        {
          "output_type": "stream",
          "name": "stdout",
          "text": [
            "No more NaN values\n"
          ]
        }
      ],
      "source": [
        "# put your answer here\n",
        "for column in columns:\n",
        "  df[column] = df[column].fillna(\"\")\n",
        "\n",
        "# check if it is ok\n",
        "hasNaN = False\n",
        "for column in columns:\n",
        "  if df[column].isnull().values.any():\n",
        "    hasNaN = True\n",
        "    break\n",
        "\n",
        "if hasNaN:\n",
        "  print(\"There are still some NaN values\")\n",
        "else:\n",
        "  print(\"No more NaN values\")\n"
      ]
    },
    {
      "cell_type": "markdown",
      "metadata": {
        "id": "S6DEXjj1F8xt"
      },
      "source": [
        "6. In th **GPA** column, replace non-numeric values with zeroes. `(6 points)`"
      ]
    },
    {
      "cell_type": "code",
      "execution_count": 121,
      "metadata": {
        "id": "xcyNAdGOF8xt",
        "colab": {
          "base_uri": "https://localhost:8080/"
        },
        "outputId": "10dd7d3c-9db0-4aa4-8fc9-42cf5774804b"
      },
      "outputs": [
        {
          "output_type": "stream",
          "name": "stdout",
          "text": [
            "no more non-numeric values\n"
          ]
        }
      ],
      "source": [
        "# put your answer here\n",
        "clean_GPA = df[\"GPA\"].copy()\n",
        "for i in range(len(clean_GPA)):\n",
        "  if not clean_GPA[i].isnumeric():\n",
        "    clean_GPA[i] = \"0\"\n",
        "df[\"GPA\"] = clean_GPA\n",
        "\n",
        "# check if it is ok\n",
        "hasNonNumeric = False\n",
        "for item in df[\"GPA\"]:\n",
        "  if not item.isnumeric():\n",
        "    hasNonNumeric = True\n",
        "    break\n",
        "\n",
        "if hasNonNumeric:\n",
        "  print(\"There are still non-numeric values\")\n",
        "else:\n",
        "  print(\"no more non-numeric values\")\n",
        ""
      ]
    },
    {
      "cell_type": "markdown",
      "metadata": {
        "id": "c4zWA3DCF8xt"
      },
      "source": [
        "7. In the **comfort_food** column, replace empty values with \"none\". `(6 points)`"
      ]
    },
    {
      "cell_type": "code",
      "execution_count": 122,
      "metadata": {
        "id": "A6FFrmVxF8xu"
      },
      "outputs": [],
      "source": [
        "# put your answer here\n",
        "comfort_food = df[\"comfort_food\"]\n",
        "new_comfort_food = comfort_food.replace(to_replace=\"\", value=\"none\")\n",
        "df[\"comfort_food\"] = new_comfort_food"
      ]
    },
    {
      "cell_type": "markdown",
      "metadata": {
        "id": "PfE-HDRkF8xu"
      },
      "source": [
        "8. In the **weight** column, replace non-numeric values with \"\". `(6 points)`"
      ]
    },
    {
      "cell_type": "code",
      "execution_count": 123,
      "metadata": {
        "id": "v0g7yb4YF8xu"
      },
      "outputs": [],
      "source": [
        "# put your answer here\n",
        "clean_weight = df[\"weight\"].copy()\n",
        "for i in range(len(clean_weight)):\n",
        "  if not clean_weight[i].isnumeric():\n",
        "    clean_weight[i] = \"\"\n",
        "df[\"weight\"] = clean_weight"
      ]
    },
    {
      "cell_type": "markdown",
      "metadata": {
        "id": "PCwSu3QZF8xu"
      },
      "source": [
        "## Feature Scaling"
      ]
    },
    {
      "cell_type": "markdown",
      "metadata": {
        "id": "SUGE273SF8xu"
      },
      "source": [
        "9. Create a new dataframe which contains the following columns: `(6 points)`\n",
        "- calories_chicken\n",
        "- calories_scone\n",
        "- tortilla_calories\n",
        "- turkey_calories\n",
        "- waffle_calories"
      ]
    },
    {
      "cell_type": "code",
      "execution_count": 124,
      "metadata": {
        "id": "8flM0N6gF8xu",
        "colab": {
          "base_uri": "https://localhost:8080/",
          "height": 424
        },
        "outputId": "168b642e-973b-42fb-ccbc-cecf6e7c6b42"
      },
      "outputs": [
        {
          "output_type": "execute_result",
          "data": {
            "text/plain": [
              "     calories_chicken calories_scone tortilla_calories  turkey_calories  \\\n",
              "0                 430          315.0            1165.0              345   \n",
              "1                 610          420.0             725.0              690   \n",
              "2                 720          420.0            1165.0              500   \n",
              "3                 430          420.0             725.0              690   \n",
              "4                 720          420.0             940.0              500   \n",
              "..                ...            ...               ...              ...   \n",
              "120               610          420.0             940.0              500   \n",
              "121               265          315.0             940.0              500   \n",
              "122               720          420.0             580.0              690   \n",
              "123               720          420.0             940.0              500   \n",
              "124               430          315.0             725.0              345   \n",
              "\n",
              "     waffle_calories  \n",
              "0               1315  \n",
              "1                900  \n",
              "2                900  \n",
              "3               1315  \n",
              "4                760  \n",
              "..               ...  \n",
              "120             1315  \n",
              "121             1315  \n",
              "122             1315  \n",
              "123             1315  \n",
              "124              575  \n",
              "\n",
              "[125 rows x 5 columns]"
            ],
            "text/html": [
              "\n",
              "  <div id=\"df-c0bd1a35-a7a4-4fa8-964b-174ee9e4238b\" class=\"colab-df-container\">\n",
              "    <div>\n",
              "<style scoped>\n",
              "    .dataframe tbody tr th:only-of-type {\n",
              "        vertical-align: middle;\n",
              "    }\n",
              "\n",
              "    .dataframe tbody tr th {\n",
              "        vertical-align: top;\n",
              "    }\n",
              "\n",
              "    .dataframe thead th {\n",
              "        text-align: right;\n",
              "    }\n",
              "</style>\n",
              "<table border=\"1\" class=\"dataframe\">\n",
              "  <thead>\n",
              "    <tr style=\"text-align: right;\">\n",
              "      <th></th>\n",
              "      <th>calories_chicken</th>\n",
              "      <th>calories_scone</th>\n",
              "      <th>tortilla_calories</th>\n",
              "      <th>turkey_calories</th>\n",
              "      <th>waffle_calories</th>\n",
              "    </tr>\n",
              "  </thead>\n",
              "  <tbody>\n",
              "    <tr>\n",
              "      <th>0</th>\n",
              "      <td>430</td>\n",
              "      <td>315.0</td>\n",
              "      <td>1165.0</td>\n",
              "      <td>345</td>\n",
              "      <td>1315</td>\n",
              "    </tr>\n",
              "    <tr>\n",
              "      <th>1</th>\n",
              "      <td>610</td>\n",
              "      <td>420.0</td>\n",
              "      <td>725.0</td>\n",
              "      <td>690</td>\n",
              "      <td>900</td>\n",
              "    </tr>\n",
              "    <tr>\n",
              "      <th>2</th>\n",
              "      <td>720</td>\n",
              "      <td>420.0</td>\n",
              "      <td>1165.0</td>\n",
              "      <td>500</td>\n",
              "      <td>900</td>\n",
              "    </tr>\n",
              "    <tr>\n",
              "      <th>3</th>\n",
              "      <td>430</td>\n",
              "      <td>420.0</td>\n",
              "      <td>725.0</td>\n",
              "      <td>690</td>\n",
              "      <td>1315</td>\n",
              "    </tr>\n",
              "    <tr>\n",
              "      <th>4</th>\n",
              "      <td>720</td>\n",
              "      <td>420.0</td>\n",
              "      <td>940.0</td>\n",
              "      <td>500</td>\n",
              "      <td>760</td>\n",
              "    </tr>\n",
              "    <tr>\n",
              "      <th>...</th>\n",
              "      <td>...</td>\n",
              "      <td>...</td>\n",
              "      <td>...</td>\n",
              "      <td>...</td>\n",
              "      <td>...</td>\n",
              "    </tr>\n",
              "    <tr>\n",
              "      <th>120</th>\n",
              "      <td>610</td>\n",
              "      <td>420.0</td>\n",
              "      <td>940.0</td>\n",
              "      <td>500</td>\n",
              "      <td>1315</td>\n",
              "    </tr>\n",
              "    <tr>\n",
              "      <th>121</th>\n",
              "      <td>265</td>\n",
              "      <td>315.0</td>\n",
              "      <td>940.0</td>\n",
              "      <td>500</td>\n",
              "      <td>1315</td>\n",
              "    </tr>\n",
              "    <tr>\n",
              "      <th>122</th>\n",
              "      <td>720</td>\n",
              "      <td>420.0</td>\n",
              "      <td>580.0</td>\n",
              "      <td>690</td>\n",
              "      <td>1315</td>\n",
              "    </tr>\n",
              "    <tr>\n",
              "      <th>123</th>\n",
              "      <td>720</td>\n",
              "      <td>420.0</td>\n",
              "      <td>940.0</td>\n",
              "      <td>500</td>\n",
              "      <td>1315</td>\n",
              "    </tr>\n",
              "    <tr>\n",
              "      <th>124</th>\n",
              "      <td>430</td>\n",
              "      <td>315.0</td>\n",
              "      <td>725.0</td>\n",
              "      <td>345</td>\n",
              "      <td>575</td>\n",
              "    </tr>\n",
              "  </tbody>\n",
              "</table>\n",
              "<p>125 rows × 5 columns</p>\n",
              "</div>\n",
              "    <div class=\"colab-df-buttons\">\n",
              "\n",
              "  <div class=\"colab-df-container\">\n",
              "    <button class=\"colab-df-convert\" onclick=\"convertToInteractive('df-c0bd1a35-a7a4-4fa8-964b-174ee9e4238b')\"\n",
              "            title=\"Convert this dataframe to an interactive table.\"\n",
              "            style=\"display:none;\">\n",
              "\n",
              "  <svg xmlns=\"http://www.w3.org/2000/svg\" height=\"24px\" viewBox=\"0 -960 960 960\">\n",
              "    <path d=\"M120-120v-720h720v720H120Zm60-500h600v-160H180v160Zm220 220h160v-160H400v160Zm0 220h160v-160H400v160ZM180-400h160v-160H180v160Zm440 0h160v-160H620v160ZM180-180h160v-160H180v160Zm440 0h160v-160H620v160Z\"/>\n",
              "  </svg>\n",
              "    </button>\n",
              "\n",
              "  <style>\n",
              "    .colab-df-container {\n",
              "      display:flex;\n",
              "      gap: 12px;\n",
              "    }\n",
              "\n",
              "    .colab-df-convert {\n",
              "      background-color: #E8F0FE;\n",
              "      border: none;\n",
              "      border-radius: 50%;\n",
              "      cursor: pointer;\n",
              "      display: none;\n",
              "      fill: #1967D2;\n",
              "      height: 32px;\n",
              "      padding: 0 0 0 0;\n",
              "      width: 32px;\n",
              "    }\n",
              "\n",
              "    .colab-df-convert:hover {\n",
              "      background-color: #E2EBFA;\n",
              "      box-shadow: 0px 1px 2px rgba(60, 64, 67, 0.3), 0px 1px 3px 1px rgba(60, 64, 67, 0.15);\n",
              "      fill: #174EA6;\n",
              "    }\n",
              "\n",
              "    .colab-df-buttons div {\n",
              "      margin-bottom: 4px;\n",
              "    }\n",
              "\n",
              "    [theme=dark] .colab-df-convert {\n",
              "      background-color: #3B4455;\n",
              "      fill: #D2E3FC;\n",
              "    }\n",
              "\n",
              "    [theme=dark] .colab-df-convert:hover {\n",
              "      background-color: #434B5C;\n",
              "      box-shadow: 0px 1px 3px 1px rgba(0, 0, 0, 0.15);\n",
              "      filter: drop-shadow(0px 1px 2px rgba(0, 0, 0, 0.3));\n",
              "      fill: #FFFFFF;\n",
              "    }\n",
              "  </style>\n",
              "\n",
              "    <script>\n",
              "      const buttonEl =\n",
              "        document.querySelector('#df-c0bd1a35-a7a4-4fa8-964b-174ee9e4238b button.colab-df-convert');\n",
              "      buttonEl.style.display =\n",
              "        google.colab.kernel.accessAllowed ? 'block' : 'none';\n",
              "\n",
              "      async function convertToInteractive(key) {\n",
              "        const element = document.querySelector('#df-c0bd1a35-a7a4-4fa8-964b-174ee9e4238b');\n",
              "        const dataTable =\n",
              "          await google.colab.kernel.invokeFunction('convertToInteractive',\n",
              "                                                    [key], {});\n",
              "        if (!dataTable) return;\n",
              "\n",
              "        const docLinkHtml = 'Like what you see? Visit the ' +\n",
              "          '<a target=\"_blank\" href=https://colab.research.google.com/notebooks/data_table.ipynb>data table notebook</a>'\n",
              "          + ' to learn more about interactive tables.';\n",
              "        element.innerHTML = '';\n",
              "        dataTable['output_type'] = 'display_data';\n",
              "        await google.colab.output.renderOutput(dataTable, element);\n",
              "        const docLink = document.createElement('div');\n",
              "        docLink.innerHTML = docLinkHtml;\n",
              "        element.appendChild(docLink);\n",
              "      }\n",
              "    </script>\n",
              "  </div>\n",
              "\n",
              "\n",
              "<div id=\"df-55ba4a49-cae7-4795-a3a6-02fab95bee1e\">\n",
              "  <button class=\"colab-df-quickchart\" onclick=\"quickchart('df-55ba4a49-cae7-4795-a3a6-02fab95bee1e')\"\n",
              "            title=\"Suggest charts.\"\n",
              "            style=\"display:none;\">\n",
              "\n",
              "<svg xmlns=\"http://www.w3.org/2000/svg\" height=\"24px\"viewBox=\"0 0 24 24\"\n",
              "     width=\"24px\">\n",
              "    <g>\n",
              "        <path d=\"M19 3H5c-1.1 0-2 .9-2 2v14c0 1.1.9 2 2 2h14c1.1 0 2-.9 2-2V5c0-1.1-.9-2-2-2zM9 17H7v-7h2v7zm4 0h-2V7h2v10zm4 0h-2v-4h2v4z\"/>\n",
              "    </g>\n",
              "</svg>\n",
              "  </button>\n",
              "\n",
              "<style>\n",
              "  .colab-df-quickchart {\n",
              "      --bg-color: #E8F0FE;\n",
              "      --fill-color: #1967D2;\n",
              "      --hover-bg-color: #E2EBFA;\n",
              "      --hover-fill-color: #174EA6;\n",
              "      --disabled-fill-color: #AAA;\n",
              "      --disabled-bg-color: #DDD;\n",
              "  }\n",
              "\n",
              "  [theme=dark] .colab-df-quickchart {\n",
              "      --bg-color: #3B4455;\n",
              "      --fill-color: #D2E3FC;\n",
              "      --hover-bg-color: #434B5C;\n",
              "      --hover-fill-color: #FFFFFF;\n",
              "      --disabled-bg-color: #3B4455;\n",
              "      --disabled-fill-color: #666;\n",
              "  }\n",
              "\n",
              "  .colab-df-quickchart {\n",
              "    background-color: var(--bg-color);\n",
              "    border: none;\n",
              "    border-radius: 50%;\n",
              "    cursor: pointer;\n",
              "    display: none;\n",
              "    fill: var(--fill-color);\n",
              "    height: 32px;\n",
              "    padding: 0;\n",
              "    width: 32px;\n",
              "  }\n",
              "\n",
              "  .colab-df-quickchart:hover {\n",
              "    background-color: var(--hover-bg-color);\n",
              "    box-shadow: 0 1px 2px rgba(60, 64, 67, 0.3), 0 1px 3px 1px rgba(60, 64, 67, 0.15);\n",
              "    fill: var(--button-hover-fill-color);\n",
              "  }\n",
              "\n",
              "  .colab-df-quickchart-complete:disabled,\n",
              "  .colab-df-quickchart-complete:disabled:hover {\n",
              "    background-color: var(--disabled-bg-color);\n",
              "    fill: var(--disabled-fill-color);\n",
              "    box-shadow: none;\n",
              "  }\n",
              "\n",
              "  .colab-df-spinner {\n",
              "    border: 2px solid var(--fill-color);\n",
              "    border-color: transparent;\n",
              "    border-bottom-color: var(--fill-color);\n",
              "    animation:\n",
              "      spin 1s steps(1) infinite;\n",
              "  }\n",
              "\n",
              "  @keyframes spin {\n",
              "    0% {\n",
              "      border-color: transparent;\n",
              "      border-bottom-color: var(--fill-color);\n",
              "      border-left-color: var(--fill-color);\n",
              "    }\n",
              "    20% {\n",
              "      border-color: transparent;\n",
              "      border-left-color: var(--fill-color);\n",
              "      border-top-color: var(--fill-color);\n",
              "    }\n",
              "    30% {\n",
              "      border-color: transparent;\n",
              "      border-left-color: var(--fill-color);\n",
              "      border-top-color: var(--fill-color);\n",
              "      border-right-color: var(--fill-color);\n",
              "    }\n",
              "    40% {\n",
              "      border-color: transparent;\n",
              "      border-right-color: var(--fill-color);\n",
              "      border-top-color: var(--fill-color);\n",
              "    }\n",
              "    60% {\n",
              "      border-color: transparent;\n",
              "      border-right-color: var(--fill-color);\n",
              "    }\n",
              "    80% {\n",
              "      border-color: transparent;\n",
              "      border-right-color: var(--fill-color);\n",
              "      border-bottom-color: var(--fill-color);\n",
              "    }\n",
              "    90% {\n",
              "      border-color: transparent;\n",
              "      border-bottom-color: var(--fill-color);\n",
              "    }\n",
              "  }\n",
              "</style>\n",
              "\n",
              "  <script>\n",
              "    async function quickchart(key) {\n",
              "      const quickchartButtonEl =\n",
              "        document.querySelector('#' + key + ' button');\n",
              "      quickchartButtonEl.disabled = true;  // To prevent multiple clicks.\n",
              "      quickchartButtonEl.classList.add('colab-df-spinner');\n",
              "      try {\n",
              "        const charts = await google.colab.kernel.invokeFunction(\n",
              "            'suggestCharts', [key], {});\n",
              "      } catch (error) {\n",
              "        console.error('Error during call to suggestCharts:', error);\n",
              "      }\n",
              "      quickchartButtonEl.classList.remove('colab-df-spinner');\n",
              "      quickchartButtonEl.classList.add('colab-df-quickchart-complete');\n",
              "    }\n",
              "    (() => {\n",
              "      let quickchartButtonEl =\n",
              "        document.querySelector('#df-55ba4a49-cae7-4795-a3a6-02fab95bee1e button');\n",
              "      quickchartButtonEl.style.display =\n",
              "        google.colab.kernel.accessAllowed ? 'block' : 'none';\n",
              "    })();\n",
              "  </script>\n",
              "</div>\n",
              "    </div>\n",
              "  </div>\n"
            ]
          },
          "metadata": {},
          "execution_count": 124
        }
      ],
      "source": [
        "# put your answer here\n",
        "calories = df[[\"calories_chicken\", \"calories_scone\", \"tortilla_calories\", \"turkey_calories\", \"waffle_calories\"]]\n",
        "calories\n"
      ]
    },
    {
      "cell_type": "markdown",
      "metadata": {
        "id": "5jAfCHIXF8xu"
      },
      "source": [
        "10. Replace the empty values un calorie column with zeroes using the `replace()` function. `(6 points)`"
      ]
    },
    {
      "cell_type": "code",
      "execution_count": 125,
      "metadata": {
        "id": "IG-AUZyHF8xu"
      },
      "outputs": [],
      "source": [
        "# put your answer here\n",
        "calories = calories.replace(to_replace=\"\", value=\"0\")"
      ]
    },
    {
      "cell_type": "markdown",
      "metadata": {
        "id": "cYpiuog6F8xu"
      },
      "source": [
        "11. Use the `astype()` function to convert all columns of the new dataframe to `int`. `(6 points)`"
      ]
    },
    {
      "cell_type": "code",
      "execution_count": 126,
      "metadata": {
        "id": "xUST6Zp1F8xu"
      },
      "outputs": [],
      "source": [
        "# put your answer here\n",
        "columns = [\"calories_chicken\", \"calories_scone\", \"tortilla_calories\", \"turkey_calories\", \"waffle_calories\"]\n",
        "calories[columns] = calories[columns].apply(lambda x: x.astype(int))"
      ]
    },
    {
      "cell_type": "markdown",
      "metadata": {
        "id": "OjswZ10bF8xu"
      },
      "source": [
        "12. Check the datatype of each column of the new dataframe using the `d_types` property. `(6 points)`"
      ]
    },
    {
      "cell_type": "code",
      "execution_count": 127,
      "metadata": {
        "id": "yGul3cfIF8xv",
        "colab": {
          "base_uri": "https://localhost:8080/"
        },
        "outputId": "6b1b8194-3ff7-4ab2-f8ae-e427f58eddd5"
      },
      "outputs": [
        {
          "output_type": "execute_result",
          "data": {
            "text/plain": [
              "calories_chicken     int64\n",
              "calories_scone       int64\n",
              "tortilla_calories    int64\n",
              "turkey_calories      int64\n",
              "waffle_calories      int64\n",
              "dtype: object"
            ]
          },
          "metadata": {},
          "execution_count": 127
        }
      ],
      "source": [
        "# put your answer here\n",
        "calories.dtypes"
      ]
    },
    {
      "cell_type": "markdown",
      "metadata": {
        "id": "13bBW40QF8xv"
      },
      "source": [
        "13. Create a new instance of the `MinMaxScaler()` class. `(6 points)`"
      ]
    },
    {
      "cell_type": "code",
      "execution_count": 128,
      "metadata": {
        "id": "kXg0JTOeF8xv"
      },
      "outputs": [],
      "source": [
        "# put your answer here\n",
        "scaler = MinMaxScaler()"
      ]
    },
    {
      "cell_type": "markdown",
      "metadata": {
        "id": "Sgg_O3O-F8xv"
      },
      "source": [
        "14. Use the `fit_transform()` function to normalize all calorie features between 0 and 1. `(6 points)`"
      ]
    },
    {
      "cell_type": "code",
      "execution_count": 129,
      "metadata": {
        "id": "wIypE0OjF8xv",
        "colab": {
          "base_uri": "https://localhost:8080/"
        },
        "outputId": "62766fd6-74fa-45a4-e3ae-00580c3b8b02"
      },
      "outputs": [
        {
          "output_type": "execute_result",
          "data": {
            "text/plain": [
              "array([[0.36263736, 0.32142857, 1.        , 0.        , 1.        ],\n",
              "       [0.75824176, 0.42857143, 0.6223176 , 0.68316832, 0.43918919],\n",
              "       [1.        , 0.42857143, 1.        , 0.30693069, 0.43918919],\n",
              "       [0.36263736, 0.42857143, 0.6223176 , 0.68316832, 1.        ],\n",
              "       [1.        , 0.42857143, 0.80686695, 0.30693069, 0.25      ],\n",
              "       [0.75824176, 1.        , 0.80686695, 0.        , 1.        ],\n",
              "       [0.75824176, 0.42857143, 0.80686695, 0.68316832, 1.        ],\n",
              "       [1.        , 0.42857143, 0.6223176 , 0.30693069, 1.        ],\n",
              "       [0.36263736, 0.42857143, 0.6223176 , 0.        , 0.25      ],\n",
              "       [0.36263736, 0.32142857, 0.49785408, 0.        , 0.43918919],\n",
              "       [0.75824176, 1.        , 0.80686695, 0.        , 0.43918919],\n",
              "       [1.        , 0.42857143, 0.80686695, 0.30693069, 0.43918919],\n",
              "       [0.36263736, 0.42857143, 0.80686695, 0.30693069, 0.        ],\n",
              "       [0.75824176, 0.42857143, 1.        , 1.        , 1.        ],\n",
              "       [0.75824176, 0.42857143, 0.80686695, 0.30693069, 0.43918919],\n",
              "       [0.36263736, 1.        , 0.80686695, 0.        , 1.        ],\n",
              "       [0.        , 0.42857143, 0.49785408, 0.        , 0.25      ],\n",
              "       [0.36263736, 1.        , 0.80686695, 0.30693069, 0.43918919],\n",
              "       [1.        , 1.        , 1.        , 0.68316832, 1.        ],\n",
              "       [0.36263736, 0.42857143, 0.80686695, 0.        , 0.43918919],\n",
              "       [0.75824176, 1.        , 1.        , 1.        , 1.        ],\n",
              "       [0.75824176, 0.32142857, 0.6223176 , 0.30693069, 0.43918919],\n",
              "       [0.75824176, 0.42857143, 0.80686695, 1.        , 1.        ],\n",
              "       [0.75824176, 0.42857143, 0.80686695, 0.68316832, 1.        ],\n",
              "       [1.        , 0.42857143, 0.80686695, 0.30693069, 1.        ],\n",
              "       [1.        , 0.42857143, 1.        , 0.68316832, 0.25      ],\n",
              "       [0.75824176, 0.42857143, 1.        , 1.        , 1.        ],\n",
              "       [0.75824176, 1.        , 1.        , 0.30693069, 1.        ],\n",
              "       [0.75824176, 0.42857143, 0.80686695, 0.30693069, 1.        ],\n",
              "       [0.        , 0.42857143, 0.49785408, 0.30693069, 0.25      ],\n",
              "       [1.        , 0.42857143, 0.80686695, 0.30693069, 1.        ],\n",
              "       [0.75824176, 0.42857143, 0.80686695, 0.68316832, 1.        ],\n",
              "       [0.75824176, 0.32142857, 0.49785408, 0.        , 0.25      ],\n",
              "       [1.        , 0.42857143, 1.        , 0.30693069, 0.43918919],\n",
              "       [0.75824176, 0.42857143, 0.80686695, 0.        , 1.        ],\n",
              "       [0.75824176, 0.42857143, 0.80686695, 0.68316832, 0.25      ],\n",
              "       [0.75824176, 0.42857143, 1.        , 0.30693069, 0.43918919],\n",
              "       [1.        , 0.42857143, 0.80686695, 0.30693069, 1.        ],\n",
              "       [0.75824176, 1.        , 1.        , 0.68316832, 1.        ],\n",
              "       [1.        , 1.        , 1.        , 0.68316832, 1.        ],\n",
              "       [0.36263736, 0.32142857, 0.80686695, 0.30693069, 0.25      ],\n",
              "       [1.        , 1.        , 0.80686695, 0.68316832, 1.        ],\n",
              "       [0.75824176, 0.42857143, 0.80686695, 0.30693069, 0.43918919],\n",
              "       [0.36263736, 1.        , 0.80686695, 0.        , 0.43918919],\n",
              "       [0.75824176, 0.42857143, 0.6223176 , 0.30693069, 0.25      ],\n",
              "       [0.75824176, 0.32142857, 0.80686695, 0.30693069, 0.43918919],\n",
              "       [0.36263736, 0.42857143, 0.6223176 , 0.        , 0.43918919],\n",
              "       [0.36263736, 1.        , 0.80686695, 0.        , 0.43918919],\n",
              "       [0.36263736, 0.32142857, 0.80686695, 0.        , 0.25      ],\n",
              "       [0.36263736, 0.32142857, 1.        , 0.68316832, 0.43918919],\n",
              "       [1.        , 0.42857143, 1.        , 0.30693069, 0.25      ],\n",
              "       [0.75824176, 1.        , 1.        , 0.30693069, 1.        ],\n",
              "       [0.75824176, 0.42857143, 1.        , 0.30693069, 0.43918919],\n",
              "       [0.75824176, 1.        , 0.80686695, 0.30693069, 1.        ],\n",
              "       [0.75824176, 0.42857143, 0.80686695, 0.68316832, 0.43918919],\n",
              "       [0.75824176, 0.32142857, 0.80686695, 0.30693069, 0.43918919],\n",
              "       [1.        , 0.32142857, 1.        , 0.30693069, 1.        ],\n",
              "       [0.75824176, 1.        , 0.6223176 , 0.        , 1.        ],\n",
              "       [0.75824176, 0.42857143, 1.        , 0.68316832, 1.        ],\n",
              "       [0.75824176, 0.42857143, 1.        , 0.30693069, 1.        ],\n",
              "       [0.75824176, 0.42857143, 1.        , 0.68316832, 1.        ],\n",
              "       [0.75824176, 1.        , 0.6223176 , 0.30693069, 1.        ],\n",
              "       [0.75824176, 1.        , 1.        , 1.        , 1.        ],\n",
              "       [0.75824176, 1.        , 1.        , 0.68316832, 1.        ],\n",
              "       [0.75824176, 0.42857143, 0.80686695, 0.30693069, 0.25      ],\n",
              "       [0.75824176, 0.32142857, 0.6223176 , 0.30693069, 0.43918919],\n",
              "       [1.        , 0.42857143, 0.80686695, 0.30693069, 0.43918919],\n",
              "       [0.75824176, 0.42857143, 0.80686695, 0.68316832, 1.        ],\n",
              "       [0.36263736, 0.32142857, 0.6223176 , 0.30693069, 0.25      ],\n",
              "       [1.        , 0.42857143, 1.        , 0.68316832, 1.        ],\n",
              "       [0.75824176, 1.        , 1.        , 0.30693069, 1.        ],\n",
              "       [1.        , 0.42857143, 1.        , 0.68316832, 1.        ],\n",
              "       [0.75824176, 1.        , 1.        , 0.        , 1.        ],\n",
              "       [1.        , 0.42857143, 1.        , 1.        , 1.        ],\n",
              "       [0.        , 0.42857143, 0.49785408, 0.        , 0.25      ],\n",
              "       [0.75824176, 0.42857143, 0.80686695, 0.30693069, 0.43918919],\n",
              "       [0.75824176, 0.42857143, 1.        , 0.68316832, 1.        ],\n",
              "       [0.        , 0.42857143, 0.6223176 , 0.        , 0.43918919],\n",
              "       [1.        , 0.42857143, 0.49785408, 0.        , 1.        ],\n",
              "       [1.        , 0.42857143, 1.        , 1.        , 1.        ],\n",
              "       [0.36263736, 0.42857143, 1.        , 0.30693069, 0.43918919],\n",
              "       [0.75824176, 0.42857143, 0.6223176 , 0.30693069, 0.43918919],\n",
              "       [0.        , 0.32142857, 0.49785408, 0.        , 0.        ],\n",
              "       [0.36263736, 0.42857143, 0.80686695, 0.68316832, 1.        ],\n",
              "       [1.        , 0.42857143, 0.6223176 , 0.68316832, 0.25      ],\n",
              "       [0.        , 0.32142857, 0.49785408, 0.30693069, 0.25      ],\n",
              "       [0.75824176, 0.42857143, 0.49785408, 0.30693069, 0.43918919],\n",
              "       [1.        , 0.42857143, 1.        , 0.68316832, 1.        ],\n",
              "       [1.        , 1.        , 1.        , 1.        , 1.        ],\n",
              "       [0.75824176, 0.42857143, 1.        , 0.30693069, 0.43918919],\n",
              "       [1.        , 0.42857143, 1.        , 1.        , 1.        ],\n",
              "       [0.75824176, 0.42857143, 0.6223176 , 0.30693069, 0.43918919],\n",
              "       [1.        , 0.42857143, 1.        , 0.68316832, 0.43918919],\n",
              "       [1.        , 0.42857143, 1.        , 0.68316832, 1.        ],\n",
              "       [0.75824176, 0.42857143, 0.80686695, 0.68316832, 1.        ],\n",
              "       [0.        , 0.42857143, 1.        , 0.68316832, 1.        ],\n",
              "       [0.36263736, 0.42857143, 0.6223176 , 0.30693069, 0.43918919],\n",
              "       [1.        , 0.42857143, 1.        , 0.30693069, 0.25      ],\n",
              "       [1.        , 0.32142857, 1.        , 0.68316832, 1.        ],\n",
              "       [0.36263736, 0.42857143, 1.        , 0.68316832, 0.43918919],\n",
              "       [0.75824176, 0.        , 0.        , 0.30693069, 0.43918919],\n",
              "       [0.75824176, 0.42857143, 1.        , 0.30693069, 1.        ],\n",
              "       [0.75824176, 0.42857143, 0.80686695, 0.30693069, 0.43918919],\n",
              "       [0.75824176, 0.42857143, 0.6223176 , 0.        , 0.25      ],\n",
              "       [1.        , 0.42857143, 0.80686695, 0.68316832, 1.        ],\n",
              "       [1.        , 0.42857143, 1.        , 0.68316832, 1.        ],\n",
              "       [0.36263736, 0.32142857, 0.49785408, 0.30693069, 0.25      ],\n",
              "       [0.36263736, 0.42857143, 1.        , 0.68316832, 0.43918919],\n",
              "       [0.36263736, 0.42857143, 0.49785408, 0.        , 0.25      ],\n",
              "       [0.75824176, 0.42857143, 0.80686695, 0.68316832, 1.        ],\n",
              "       [0.75824176, 0.32142857, 0.49785408, 0.68316832, 0.43918919],\n",
              "       [0.        , 1.        , 0.6223176 , 0.        , 1.        ],\n",
              "       [0.75824176, 0.32142857, 0.6223176 , 0.30693069, 0.43918919],\n",
              "       [0.36263736, 0.42857143, 1.        , 0.68316832, 0.43918919],\n",
              "       [0.75824176, 0.32142857, 0.80686695, 1.        , 0.25      ],\n",
              "       [0.75824176, 1.        , 1.        , 0.68316832, 1.        ],\n",
              "       [0.75824176, 0.42857143, 0.6223176 , 0.        , 1.        ],\n",
              "       [0.75824176, 0.32142857, 0.6223176 , 0.68316832, 0.25      ],\n",
              "       [0.36263736, 0.42857143, 0.80686695, 0.        , 1.        ],\n",
              "       [0.75824176, 0.42857143, 1.        , 0.68316832, 1.        ],\n",
              "       [0.75824176, 0.42857143, 0.80686695, 0.30693069, 1.        ],\n",
              "       [0.        , 0.32142857, 0.80686695, 0.30693069, 1.        ],\n",
              "       [1.        , 0.42857143, 0.49785408, 0.68316832, 1.        ],\n",
              "       [1.        , 0.42857143, 0.80686695, 0.30693069, 1.        ],\n",
              "       [0.36263736, 0.32142857, 0.6223176 , 0.        , 0.        ]])"
            ]
          },
          "metadata": {},
          "execution_count": 129
        }
      ],
      "source": [
        "# put your answer here\n",
        "scaler.fit_transform(calories)\n"
      ]
    },
    {
      "cell_type": "markdown",
      "metadata": {
        "id": "E6_ZeIjRF8xv"
      },
      "source": [
        "## Discretization"
      ]
    },
    {
      "cell_type": "code",
      "execution_count": 130,
      "metadata": {
        "id": "sfwl39OyF8xv"
      },
      "outputs": [],
      "source": [
        "# Code to replace empty values with zeroes\n",
        "df['weight'] = df['weight'].replace(\"\", value=\"0\")\n",
        "\n",
        "# Code to convert the weight column to int\n",
        "df['weight'] = df['weight'].astype(int)"
      ]
    },
    {
      "cell_type": "markdown",
      "metadata": {
        "id": "NlihnS0uF8xv"
      },
      "source": [
        "15. Use the matplotlib `hist()` function to create a histogram of the distribution of values of the weight column in the dataset. `(6 points)`"
      ]
    },
    {
      "cell_type": "code",
      "execution_count": 131,
      "metadata": {
        "id": "uXk3nF08F8xv",
        "colab": {
          "base_uri": "https://localhost:8080/",
          "height": 451
        },
        "outputId": "5736eb7b-21f0-436a-deb8-eb1d977d2f4d"
      },
      "outputs": [
        {
          "output_type": "execute_result",
          "data": {
            "text/plain": [
              "<Axes: >"
            ]
          },
          "metadata": {},
          "execution_count": 131
        },
        {
          "output_type": "display_data",
          "data": {
            "text/plain": [
              "<Figure size 640x480 with 1 Axes>"
            ],
            "image/png": "[encoded data removed]"
          },
          "metadata": {}
        }
      ],
      "source": [
        "# put your answer here\n",
        "df[\"weight\"].hist()"
      ]
    },
    {
      "cell_type": "markdown",
      "metadata": {
        "id": "zDrO_-dTF8xv"
      },
      "source": [
        "16. Pass three (3) bins to the matplotlib `hist()` function to create a histogram of the distribution of values of the weight column. `(6 points)`"
      ]
    },
    {
      "cell_type": "code",
      "execution_count": 132,
      "metadata": {
        "id": "bHIvenbuF8xw",
        "colab": {
          "base_uri": "https://localhost:8080/",
          "height": 451
        },
        "outputId": "4f9efd01-9168-4639-b53d-86a2413d3fa8"
      },
      "outputs": [
        {
          "output_type": "execute_result",
          "data": {
            "text/plain": [
              "<Axes: >"
            ]
          },
          "metadata": {},
          "execution_count": 132
        },
        {
          "output_type": "display_data",
          "data": {
            "text/plain": [
              "<Figure size 640x480 with 1 Axes>"
            ],
            "image/png": "[encoded data removed]"
          },
          "metadata": {}
        }
      ],
      "source": [
        "# put your answer here\n",
        "df[\"weight\"].hist(bins=3)\n"
      ]
    },
    {
      "cell_type": "markdown",
      "metadata": {
        "id": "NMM1ZpNxF8xw"
      },
      "source": [
        "17. Use the seaborn `histplot()` function to create a histogram:. `(6 points)`\n",
        "\n",
        "    - Create three bins **0 to 100**, 1**00 to 200**, **200 to 300**\n",
        "    - Name the first bin from **0 to 100** as **Underweight**\n",
        "    - Name the second bin from **0 to 100** as **Normal**\n",
        "    - Name the third bin from **0 to 100** as **Overweight**\n",
        "\n",
        "    - Set the `set_xticks()` to **0,150,250**\n",
        "    - Set the `set_xticklabels()` to **\"Underweight\", \"Normal\", \"Overweight\"**\n"
      ]
    },
    {
      "cell_type": "code",
      "execution_count": 133,
      "metadata": {
        "id": "eKNf7vDsF8xw",
        "colab": {
          "base_uri": "https://localhost:8080/",
          "height": 434
        },
        "outputId": "0f0ba153-273a-4690-f1b1-80231aa67a46"
      },
      "outputs": [
        {
          "output_type": "display_data",
          "data": {
            "text/plain": [
              "<Figure size 640x480 with 1 Axes>"
            ],
            "image/png": "[encoded data removed]"
          },
          "metadata": {}
        }
      ],
      "source": [
        "# put your answer here\n",
        "sns.set()\n",
        "sns.set_style(\"whitegrid\")\n",
        "ax = sns.histplot(data=df.weight.values, bins=3, binwidth=100)\n",
        "ax.set_xticks([50, 150, 250])\n",
        "ax.set_xticklabels([\"Underweight\", \"Normal\", \"Overweight\"])\n",
        "plt.show()\n"
      ]
    }
  ],
  "metadata": {
    "kernelspec": {
      "display_name": "Python 3",
      "language": "python",
      "name": "python3"
    },
    "language_info": {
      "codemirror_mode": {
        "name": "ipython",
        "version": 3
      },
      "file_extension": ".py",
      "mimetype": "text/x-python",
      "name": "python",
      "nbconvert_exporter": "python",
      "pygments_lexer": "ipython3",
      "version": "3.11.4"
    },
    "orig_nbformat": 4,
    "colab": {
      "provenance": [],
      "include_colab_link": true
    }
  },
  "nbformat": 4,
  "nbformat_minor": 0
}