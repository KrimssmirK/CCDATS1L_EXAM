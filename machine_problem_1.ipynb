{
  "cells": [
    {
      "cell_type": "markdown",
      "metadata": {
        "id": "view-in-github",
        "colab_type": "text"
      },
      "source": [
        "<a href=\"https://colab.research.google.com/github/KrimssmirK/CCDATS1L_EXAM/blob/main/machine_problem_1.ipynb\" target=\"_parent\"><img src=\"https://colab.research.google.com/assets/colab-badge.svg\" alt=\"Open In Colab\"/></a>"
      ]
    },
    {
      "cell_type": "markdown",
      "metadata": {
        "id": "_NJNtBBtF8xi"
      },
      "source": [
        "# Machine Problem 1"
      ]
    },
    {
      "cell_type": "markdown",
      "source": [
        "Instructions ❗️❗️\n",
        "\n",
        "❌ Do not remove or modify the notebook sections, subsections, exam questions or any text in this python notebook\n",
        "\n",
        "✔️ Put your answer in the designated cells below each question"
      ],
      "metadata": {
        "id": "8EceuOTIGcsH"
      }
    },
    {
      "cell_type": "code",
      "execution_count": 1,
      "metadata": {
        "id": "MqOQkbEFF8xr"
      },
      "outputs": [],
      "source": [
        "import pandas as pd\n",
        "from sklearn.preprocessing import MinMaxScaler\n",
        "import matplotlib.pyplot as plt\n",
        "import seaborn as sns"
      ]
    },
    {
      "cell_type": "markdown",
      "metadata": {
        "id": "oYLBYVQJF8xs"
      },
      "source": [
        "## Data Cleaning"
      ]
    },
    {
      "cell_type": "code",
      "execution_count": 2,
      "metadata": {
        "id": "0ElL8OL8F8xs"
      },
      "outputs": [],
      "source": [
        "df = pd.read_csv('food.csv')"
      ]
    },
    {
      "cell_type": "markdown",
      "metadata": {
        "id": "ix_kMM-XF8xs"
      },
      "source": [
        "1. Remove all duplicates in the dataset. `(6 points)`"
      ]
    },
    {
      "cell_type": "code",
      "execution_count": 7,
      "metadata": {
        "id": "mpzOx-X-F8xs",
        "outputId": "5663c36b-3a01-45aa-cd15-9c4cac160d81",
        "colab": {
          "base_uri": "https://localhost:8080/",
          "height": 99
        }
      },
      "outputs": [
        {
          "output_type": "execute_result",
          "data": {
            "text/plain": [
              "Empty DataFrame\n",
              "Columns: [GPA, Gender, breakfast, calories_chicken, calories_day, calories_scone, coffee, comfort_food, comfort_food_reasons, comfort_food_reasons_coded, cook, comfort_food_reasons_coded.1, cuisine, diet_current, diet_current_coded, drink, eating_changes, eating_changes_coded, eating_changes_coded1, eating_out, employment, ethnic_food, exercise, father_education, father_profession, fav_cuisine, fav_cuisine_coded, fav_food, food_childhood, fries, fruit_day, grade_level, greek_food, healthy_feeling, healthy_meal, ideal_diet, ideal_diet_coded, income, indian_food, italian_food, life_rewarding, marital_status, meals_dinner_friend, mother_education, mother_profession, nutritional_check, on_off_campus, parents_cook, pay_meal_out, persian_food, self_perception_weight, soup, sports, thai_food, tortilla_calories, turkey_calories, type_sports, veggies_day, vitamins, waffle_calories, weight]\n",
              "Index: []\n",
              "\n",
              "[0 rows x 61 columns]"
            ],
            "text/html": [
              "\n",
              "  <div id=\"df-1bd03cb3-0854-4c3c-a57a-5223f7fc95af\" class=\"colab-df-container\">\n",
              "    <div>\n",
              "<style scoped>\n",
              "    .dataframe tbody tr th:only-of-type {\n",
              "        vertical-align: middle;\n",
              "    }\n",
              "\n",
              "    .dataframe tbody tr th {\n",
              "        vertical-align: top;\n",
              "    }\n",
              "\n",
              "    .dataframe thead th {\n",
              "        text-align: right;\n",
              "    }\n",
              "</style>\n",
              "<table border=\"1\" class=\"dataframe\">\n",
              "  <thead>\n",
              "    <tr style=\"text-align: right;\">\n",
              "      <th></th>\n",
              "      <th>GPA</th>\n",
              "      <th>Gender</th>\n",
              "      <th>breakfast</th>\n",
              "      <th>calories_chicken</th>\n",
              "      <th>calories_day</th>\n",
              "      <th>calories_scone</th>\n",
              "      <th>coffee</th>\n",
              "      <th>comfort_food</th>\n",
              "      <th>comfort_food_reasons</th>\n",
              "      <th>comfort_food_reasons_coded</th>\n",
              "      <th>...</th>\n",
              "      <th>soup</th>\n",
              "      <th>sports</th>\n",
              "      <th>thai_food</th>\n",
              "      <th>tortilla_calories</th>\n",
              "      <th>turkey_calories</th>\n",
              "      <th>type_sports</th>\n",
              "      <th>veggies_day</th>\n",
              "      <th>vitamins</th>\n",
              "      <th>waffle_calories</th>\n",
              "      <th>weight</th>\n",
              "    </tr>\n",
              "  </thead>\n",
              "  <tbody>\n",
              "  </tbody>\n",
              "</table>\n",
              "<p>0 rows × 61 columns</p>\n",
              "</div>\n",
              "    <div class=\"colab-df-buttons\">\n",
              "\n",
              "  <div class=\"colab-df-container\">\n",
              "    <button class=\"colab-df-convert\" onclick=\"convertToInteractive('df-1bd03cb3-0854-4c3c-a57a-5223f7fc95af')\"\n",
              "            title=\"Convert this dataframe to an interactive table.\"\n",
              "            style=\"display:none;\">\n",
              "\n",
              "  <svg xmlns=\"http://www.w3.org/2000/svg\" height=\"24px\" viewBox=\"0 -960 960 960\">\n",
              "    <path d=\"M120-120v-720h720v720H120Zm60-500h600v-160H180v160Zm220 220h160v-160H400v160Zm0 220h160v-160H400v160ZM180-400h160v-160H180v160Zm440 0h160v-160H620v160ZM180-180h160v-160H180v160Zm440 0h160v-160H620v160Z\"/>\n",
              "  </svg>\n",
              "    </button>\n",
              "\n",
              "  <style>\n",
              "    .colab-df-container {\n",
              "      display:flex;\n",
              "      gap: 12px;\n",
              "    }\n",
              "\n",
              "    .colab-df-convert {\n",
              "      background-color: #E8F0FE;\n",
              "      border: none;\n",
              "      border-radius: 50%;\n",
              "      cursor: pointer;\n",
              "      display: none;\n",
              "      fill: #1967D2;\n",
              "      height: 32px;\n",
              "      padding: 0 0 0 0;\n",
              "      width: 32px;\n",
              "    }\n",
              "\n",
              "    .colab-df-convert:hover {\n",
              "      background-color: #E2EBFA;\n",
              "      box-shadow: 0px 1px 2px rgba(60, 64, 67, 0.3), 0px 1px 3px 1px rgba(60, 64, 67, 0.15);\n",
              "      fill: #174EA6;\n",
              "    }\n",
              "\n",
              "    .colab-df-buttons div {\n",
              "      margin-bottom: 4px;\n",
              "    }\n",
              "\n",
              "    [theme=dark] .colab-df-convert {\n",
              "      background-color: #3B4455;\n",
              "      fill: #D2E3FC;\n",
              "    }\n",
              "\n",
              "    [theme=dark] .colab-df-convert:hover {\n",
              "      background-color: #434B5C;\n",
              "      box-shadow: 0px 1px 3px 1px rgba(0, 0, 0, 0.15);\n",
              "      filter: drop-shadow(0px 1px 2px rgba(0, 0, 0, 0.3));\n",
              "      fill: #FFFFFF;\n",
              "    }\n",
              "  </style>\n",
              "\n",
              "    <script>\n",
              "      const buttonEl =\n",
              "        document.querySelector('#df-1bd03cb3-0854-4c3c-a57a-5223f7fc95af button.colab-df-convert');\n",
              "      buttonEl.style.display =\n",
              "        google.colab.kernel.accessAllowed ? 'block' : 'none';\n",
              "\n",
              "      async function convertToInteractive(key) {\n",
              "        const element = document.querySelector('#df-1bd03cb3-0854-4c3c-a57a-5223f7fc95af');\n",
              "        const dataTable =\n",
              "          await google.colab.kernel.invokeFunction('convertToInteractive',\n",
              "                                                    [key], {});\n",
              "        if (!dataTable) return;\n",
              "\n",
              "        const docLinkHtml = 'Like what you see? Visit the ' +\n",
              "          '<a target=\"_blank\" href=https://colab.research.google.com/notebooks/data_table.ipynb>data table notebook</a>'\n",
              "          + ' to learn more about interactive tables.';\n",
              "        element.innerHTML = '';\n",
              "        dataTable['output_type'] = 'display_data';\n",
              "        await google.colab.output.renderOutput(dataTable, element);\n",
              "        const docLink = document.createElement('div');\n",
              "        docLink.innerHTML = docLinkHtml;\n",
              "        element.appendChild(docLink);\n",
              "      }\n",
              "    </script>\n",
              "  </div>\n",
              "\n",
              "    </div>\n",
              "  </div>\n"
            ]
          },
          "metadata": {},
          "execution_count": 7
        }
      ],
      "source": [
        "# put your answer here\n",
        "# duplicates - repeated data in the dataset\n",
        "duplicated_rows = df.duplicated()\n",
        "duplicated_items = df.loc[duplicated_rows]\n",
        "duplicated_items"
      ]
    },
    {
      "cell_type": "markdown",
      "metadata": {
        "id": "Tb377rMBF8xs"
      },
      "source": [
        "2. Use the pandas `isnull()` and `any()` function to check for NaN values in each column. `(6 points)`"
      ]
    },
    {
      "cell_type": "code",
      "execution_count": null,
      "metadata": {
        "id": "LQXVPklyF8xs"
      },
      "outputs": [],
      "source": [
        "# put your answer here\n",
        "\n",
        "total = 0\n",
        "for column in df.columns:\n",
        "  for idx, value in enumerate(df[column].isnull()):\n",
        "    if value == True:\n",
        "      print(\"NaN value in index #{} in column {}\".format(idx, column))\n",
        "      total += 1\n",
        "\n",
        "print(\"TOTAL {} NaN values\".format(total))\n",
        ""
      ]
    },
    {
      "cell_type": "markdown",
      "metadata": {
        "id": "TyoG9phhF8xs"
      },
      "source": [
        "3. Retrieve all rows with NaN values in the dataset by using the pandas `isnull()` and `.any()` inside a dataframe. `(6 points)`"
      ]
    },
    {
      "cell_type": "code",
      "execution_count": 16,
      "metadata": {
        "id": "-G2tpTIQF8xt",
        "outputId": "74c423a3-5885-478c-bb5b-1ed99e36a229",
        "colab": {
          "base_uri": "https://localhost:8080/"
        }
      },
      "outputs": [
        {
          "output_type": "stream",
          "name": "stdout",
          "text": [
            "       GPA  Gender  breakfast  calories_chicken  calories_day  calories_scone  \\\n",
            "0    False   False      False             False          True           False   \n",
            "1    False   False      False             False         False           False   \n",
            "2    False   False      False             False         False           False   \n",
            "3    False   False      False             False         False           False   \n",
            "4    False   False      False             False         False           False   \n",
            "..     ...     ...        ...               ...           ...             ...   \n",
            "120  False   False      False             False         False           False   \n",
            "121  False   False      False             False         False           False   \n",
            "122  False   False      False             False          True           False   \n",
            "123  False   False      False             False         False           False   \n",
            "124  False   False      False             False          True           False   \n",
            "\n",
            "     coffee  comfort_food  comfort_food_reasons  comfort_food_reasons_coded  \\\n",
            "0     False         False                 False                       False   \n",
            "1     False         False                 False                       False   \n",
            "2     False         False                 False                       False   \n",
            "3     False         False                 False                       False   \n",
            "4     False         False                 False                       False   \n",
            "..      ...           ...                   ...                         ...   \n",
            "120   False         False                 False                        True   \n",
            "121   False         False                 False                        True   \n",
            "122   False         False                 False                        True   \n",
            "123   False         False                 False                        True   \n",
            "124   False         False                 False                        True   \n",
            "\n",
            "     ...   soup  sports  thai_food  tortilla_calories  turkey_calories  \\\n",
            "0    ...  False   False      False              False            False   \n",
            "1    ...  False   False      False              False            False   \n",
            "2    ...  False   False      False              False            False   \n",
            "3    ...  False   False      False              False            False   \n",
            "4    ...  False   False      False              False            False   \n",
            "..   ...    ...     ...        ...                ...              ...   \n",
            "120  ...  False   False      False              False            False   \n",
            "121  ...  False    True      False              False            False   \n",
            "122  ...  False   False      False              False            False   \n",
            "123  ...  False   False      False              False            False   \n",
            "124  ...  False   False      False              False            False   \n",
            "\n",
            "     type_sports  veggies_day  vitamins  waffle_calories  weight  \n",
            "0          False        False     False            False   False  \n",
            "1          False        False     False            False   False  \n",
            "2          False        False     False            False   False  \n",
            "3           True        False     False            False   False  \n",
            "4          False        False     False            False   False  \n",
            "..           ...          ...       ...              ...     ...  \n",
            "120        False        False     False            False   False  \n",
            "121        False        False     False            False   False  \n",
            "122        False        False     False            False   False  \n",
            "123         True        False     False            False   False  \n",
            "124         True        False     False            False   False  \n",
            "\n",
            "[125 rows x 61 columns]\n"
          ]
        }
      ],
      "source": [
        "# put your answer here\n",
        "\n",
        "rows_with_nan = df.isnull()\n",
        "print(rows_with_nan)\n"
      ]
    },
    {
      "cell_type": "markdown",
      "metadata": {
        "id": "Q_P9uwRLF8xt"
      },
      "source": [
        "4. Put all of the columns with NaN values in a list. Print the contents of the list. `(6 points)`"
      ]
    },
    {
      "cell_type": "code",
      "execution_count": null,
      "metadata": {
        "id": "vDzavt2kF8xt"
      },
      "outputs": [],
      "source": [
        "# put your answer here\n"
      ]
    },
    {
      "cell_type": "markdown",
      "metadata": {
        "id": "sNL93oDzF8xt"
      },
      "source": [
        "5. Loop through the list that contains columns with NaN values and use the `fillna()` function to replace NaN values with empty an string. `(6 points)`"
      ]
    },
    {
      "cell_type": "code",
      "execution_count": null,
      "metadata": {
        "id": "zjCZGnytF8xt"
      },
      "outputs": [],
      "source": [
        "# put your answer here\n"
      ]
    },
    {
      "cell_type": "markdown",
      "metadata": {
        "id": "S6DEXjj1F8xt"
      },
      "source": [
        "6. In th **GPA** column, replace non-numeric values with zeroes. `(6 points)`"
      ]
    },
    {
      "cell_type": "code",
      "execution_count": null,
      "metadata": {
        "id": "xcyNAdGOF8xt"
      },
      "outputs": [],
      "source": [
        "# put your answer here"
      ]
    },
    {
      "cell_type": "markdown",
      "metadata": {
        "id": "c4zWA3DCF8xt"
      },
      "source": [
        "7. In the **comfort_food** column, replace empty values with \"none\". `(6 points)`"
      ]
    },
    {
      "cell_type": "code",
      "execution_count": null,
      "metadata": {
        "id": "A6FFrmVxF8xu"
      },
      "outputs": [],
      "source": [
        "# put your answer here\n"
      ]
    },
    {
      "cell_type": "markdown",
      "metadata": {
        "id": "PfE-HDRkF8xu"
      },
      "source": [
        "8. In the **weight** column, replace non-numeric values with \"\". `(6 points)`"
      ]
    },
    {
      "cell_type": "code",
      "execution_count": null,
      "metadata": {
        "id": "v0g7yb4YF8xu"
      },
      "outputs": [],
      "source": [
        "# put your answer here"
      ]
    },
    {
      "cell_type": "markdown",
      "metadata": {
        "id": "PCwSu3QZF8xu"
      },
      "source": [
        "## Feature Scaling"
      ]
    },
    {
      "cell_type": "markdown",
      "metadata": {
        "id": "SUGE273SF8xu"
      },
      "source": [
        "9. Create a new dataframe which contains the following columns: `(6 points)`\n",
        "- calories_chicken\n",
        "- calories_scone\n",
        "- tortilla_calories\n",
        "- turkey_calories\n",
        "- waffle_calories"
      ]
    },
    {
      "cell_type": "code",
      "execution_count": null,
      "metadata": {
        "id": "8flM0N6gF8xu"
      },
      "outputs": [],
      "source": [
        "# put your answer here\n"
      ]
    },
    {
      "cell_type": "markdown",
      "metadata": {
        "id": "5jAfCHIXF8xu"
      },
      "source": [
        "10. Replace the empty values un calorie column with zeroes using the `replace()` function. `(6 points)`"
      ]
    },
    {
      "cell_type": "code",
      "execution_count": null,
      "metadata": {
        "id": "IG-AUZyHF8xu"
      },
      "outputs": [],
      "source": [
        "# put your answer here"
      ]
    },
    {
      "cell_type": "markdown",
      "metadata": {
        "id": "cYpiuog6F8xu"
      },
      "source": [
        "11. Use the `astype()` function to convert all columns of the new dataframe to `int`. `(6 points)`"
      ]
    },
    {
      "cell_type": "code",
      "execution_count": null,
      "metadata": {
        "id": "xUST6Zp1F8xu"
      },
      "outputs": [],
      "source": [
        "# put your answer here"
      ]
    },
    {
      "cell_type": "markdown",
      "metadata": {
        "id": "OjswZ10bF8xu"
      },
      "source": [
        "12. Check the datatype of each column of the new dataframe using the `d_types` property. `(6 points)`"
      ]
    },
    {
      "cell_type": "code",
      "execution_count": null,
      "metadata": {
        "id": "yGul3cfIF8xv"
      },
      "outputs": [],
      "source": [
        "# put your answer here"
      ]
    },
    {
      "cell_type": "markdown",
      "metadata": {
        "id": "13bBW40QF8xv"
      },
      "source": [
        "13. Create a new instance of the `MinMaxScaler()` class. `(6 points)`"
      ]
    },
    {
      "cell_type": "code",
      "execution_count": null,
      "metadata": {
        "id": "kXg0JTOeF8xv"
      },
      "outputs": [],
      "source": [
        "# put your answer here"
      ]
    },
    {
      "cell_type": "markdown",
      "metadata": {
        "id": "Sgg_O3O-F8xv"
      },
      "source": [
        "14. Use the `fit_transform()` function to normalize all calorie features between 0 and 1. `(6 points)`"
      ]
    },
    {
      "cell_type": "code",
      "execution_count": null,
      "metadata": {
        "id": "wIypE0OjF8xv"
      },
      "outputs": [],
      "source": [
        "# put your answer here"
      ]
    },
    {
      "cell_type": "markdown",
      "metadata": {
        "id": "E6_ZeIjRF8xv"
      },
      "source": [
        "## Discretization"
      ]
    },
    {
      "cell_type": "code",
      "execution_count": null,
      "metadata": {
        "id": "sfwl39OyF8xv"
      },
      "outputs": [],
      "source": [
        "# Code to replace empty values with zeroes\n",
        "df['weight'] = df['weight'].replace(\"\", value=\"0\")\n",
        "\n",
        "# Code to convert the weight column to int\n",
        "df['weight'] = df['weight'].astype(int)"
      ]
    },
    {
      "cell_type": "markdown",
      "metadata": {
        "id": "NlihnS0uF8xv"
      },
      "source": [
        "15. Use the matplotlib `hist()` function to create a histogram of the distribution of values of the weight column in the dataset. `(6 points)`"
      ]
    },
    {
      "cell_type": "code",
      "execution_count": null,
      "metadata": {
        "id": "uXk3nF08F8xv"
      },
      "outputs": [],
      "source": [
        "# put your answer here"
      ]
    },
    {
      "cell_type": "markdown",
      "metadata": {
        "id": "zDrO_-dTF8xv"
      },
      "source": [
        "16. Pass three (3) bins to the matplotlib `hist()` function to create a histogram of the distribution of values of the weight column. `(6 points)`"
      ]
    },
    {
      "cell_type": "code",
      "execution_count": null,
      "metadata": {
        "id": "bHIvenbuF8xw"
      },
      "outputs": [],
      "source": [
        "# put your answer here\n"
      ]
    },
    {
      "cell_type": "markdown",
      "metadata": {
        "id": "NMM1ZpNxF8xw"
      },
      "source": [
        "17. Use the seaborn `histplot()` function to create a histogram:. `(6 points)`\n",
        "\n",
        "    - Create three bins **0 to 100**, 1**00 to 200**, **200 to 300**\n",
        "    - Name the first bin from **0 to 100** as **Underweight**\n",
        "    - Name the second bin from **0 to 100** as **Normal**\n",
        "    - Name the third bin from **0 to 100** as **Overweight**\n",
        "\n",
        "    - Set the `set_xticks()` to **0,150,250**\n",
        "    - Set the `set_xticklabels()` to **\"Underweight\", \"Normal\", \"Overweight\"**\n"
      ]
    },
    {
      "cell_type": "code",
      "execution_count": null,
      "metadata": {
        "id": "eKNf7vDsF8xw"
      },
      "outputs": [],
      "source": [
        "# put your answer here"
      ]
    }
  ],
  "metadata": {
    "kernelspec": {
      "display_name": "Python 3",
      "language": "python",
      "name": "python3"
    },
    "language_info": {
      "codemirror_mode": {
        "name": "ipython",
        "version": 3
      },
      "file_extension": ".py",
      "mimetype": "text/x-python",
      "name": "python",
      "nbconvert_exporter": "python",
      "pygments_lexer": "ipython3",
      "version": "3.11.4"
    },
    "orig_nbformat": 4,
    "colab": {
      "provenance": [],
      "include_colab_link": true
    }
  },
  "nbformat": 4,
  "nbformat_minor": 0
}